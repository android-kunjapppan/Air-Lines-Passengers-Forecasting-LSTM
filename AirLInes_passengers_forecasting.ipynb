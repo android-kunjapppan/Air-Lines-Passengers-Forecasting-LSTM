{
 "cells": [
  {
   "cell_type": "code",
   "execution_count": 2,
   "metadata": {},
   "outputs": [],
   "source": [
    "import pandas as pd\n",
    "import numpy as np\n",
    "import matplotlib.pyplot as plt"
   ]
  },
  {
   "cell_type": "code",
   "execution_count": 3,
   "metadata": {},
   "outputs": [],
   "source": [
    "df = pd.read_csv('AirPassengers.csv')"
   ]
  },
  {
   "cell_type": "code",
   "execution_count": 4,
   "metadata": {},
   "outputs": [
    {
     "data": {
      "text/html": [
       "<div>\n",
       "<style scoped>\n",
       "    .dataframe tbody tr th:only-of-type {\n",
       "        vertical-align: middle;\n",
       "    }\n",
       "\n",
       "    .dataframe tbody tr th {\n",
       "        vertical-align: top;\n",
       "    }\n",
       "\n",
       "    .dataframe thead th {\n",
       "        text-align: right;\n",
       "    }\n",
       "</style>\n",
       "<table border=\"1\" class=\"dataframe\">\n",
       "  <thead>\n",
       "    <tr style=\"text-align: right;\">\n",
       "      <th></th>\n",
       "      <th>Month</th>\n",
       "      <th>#Passengers</th>\n",
       "    </tr>\n",
       "  </thead>\n",
       "  <tbody>\n",
       "    <tr>\n",
       "      <th>0</th>\n",
       "      <td>1949-01</td>\n",
       "      <td>112</td>\n",
       "    </tr>\n",
       "    <tr>\n",
       "      <th>1</th>\n",
       "      <td>1949-02</td>\n",
       "      <td>118</td>\n",
       "    </tr>\n",
       "    <tr>\n",
       "      <th>2</th>\n",
       "      <td>1949-03</td>\n",
       "      <td>132</td>\n",
       "    </tr>\n",
       "    <tr>\n",
       "      <th>3</th>\n",
       "      <td>1949-04</td>\n",
       "      <td>129</td>\n",
       "    </tr>\n",
       "    <tr>\n",
       "      <th>4</th>\n",
       "      <td>1949-05</td>\n",
       "      <td>121</td>\n",
       "    </tr>\n",
       "  </tbody>\n",
       "</table>\n",
       "</div>"
      ],
      "text/plain": [
       "     Month  #Passengers\n",
       "0  1949-01          112\n",
       "1  1949-02          118\n",
       "2  1949-03          132\n",
       "3  1949-04          129\n",
       "4  1949-05          121"
      ]
     },
     "execution_count": 4,
     "metadata": {},
     "output_type": "execute_result"
    }
   ],
   "source": [
    "df.head()"
   ]
  },
  {
   "cell_type": "code",
   "execution_count": 7,
   "metadata": {},
   "outputs": [
    {
     "data": {
      "text/plain": [
       "(144, 2)"
      ]
     },
     "execution_count": 7,
     "metadata": {},
     "output_type": "execute_result"
    }
   ],
   "source": [
    "df.shape"
   ]
  },
  {
   "cell_type": "code",
   "execution_count": 9,
   "metadata": {},
   "outputs": [
    {
     "data": {
      "text/html": [
       "<div>\n",
       "<style scoped>\n",
       "    .dataframe tbody tr th:only-of-type {\n",
       "        vertical-align: middle;\n",
       "    }\n",
       "\n",
       "    .dataframe tbody tr th {\n",
       "        vertical-align: top;\n",
       "    }\n",
       "\n",
       "    .dataframe thead th {\n",
       "        text-align: right;\n",
       "    }\n",
       "</style>\n",
       "<table border=\"1\" class=\"dataframe\">\n",
       "  <thead>\n",
       "    <tr style=\"text-align: right;\">\n",
       "      <th></th>\n",
       "      <th>#Passengers</th>\n",
       "    </tr>\n",
       "  </thead>\n",
       "  <tbody>\n",
       "    <tr>\n",
       "      <th>count</th>\n",
       "      <td>144.000000</td>\n",
       "    </tr>\n",
       "    <tr>\n",
       "      <th>mean</th>\n",
       "      <td>280.298611</td>\n",
       "    </tr>\n",
       "    <tr>\n",
       "      <th>std</th>\n",
       "      <td>119.966317</td>\n",
       "    </tr>\n",
       "    <tr>\n",
       "      <th>min</th>\n",
       "      <td>104.000000</td>\n",
       "    </tr>\n",
       "    <tr>\n",
       "      <th>25%</th>\n",
       "      <td>180.000000</td>\n",
       "    </tr>\n",
       "    <tr>\n",
       "      <th>50%</th>\n",
       "      <td>265.500000</td>\n",
       "    </tr>\n",
       "    <tr>\n",
       "      <th>75%</th>\n",
       "      <td>360.500000</td>\n",
       "    </tr>\n",
       "    <tr>\n",
       "      <th>max</th>\n",
       "      <td>622.000000</td>\n",
       "    </tr>\n",
       "  </tbody>\n",
       "</table>\n",
       "</div>"
      ],
      "text/plain": [
       "       #Passengers\n",
       "count   144.000000\n",
       "mean    280.298611\n",
       "std     119.966317\n",
       "min     104.000000\n",
       "25%     180.000000\n",
       "50%     265.500000\n",
       "75%     360.500000\n",
       "max     622.000000"
      ]
     },
     "execution_count": 9,
     "metadata": {},
     "output_type": "execute_result"
    }
   ],
   "source": [
    "df.describe()"
   ]
  },
  {
   "cell_type": "code",
   "execution_count": 10,
   "metadata": {},
   "outputs": [
    {
     "data": {
      "text/html": [
       "<div>\n",
       "<style scoped>\n",
       "    .dataframe tbody tr th:only-of-type {\n",
       "        vertical-align: middle;\n",
       "    }\n",
       "\n",
       "    .dataframe tbody tr th {\n",
       "        vertical-align: top;\n",
       "    }\n",
       "\n",
       "    .dataframe thead th {\n",
       "        text-align: right;\n",
       "    }\n",
       "</style>\n",
       "<table border=\"1\" class=\"dataframe\">\n",
       "  <thead>\n",
       "    <tr style=\"text-align: right;\">\n",
       "      <th></th>\n",
       "      <th>Month</th>\n",
       "      <th>#Passengers</th>\n",
       "    </tr>\n",
       "  </thead>\n",
       "  <tbody>\n",
       "    <tr>\n",
       "      <th>139</th>\n",
       "      <td>1960-08</td>\n",
       "      <td>606</td>\n",
       "    </tr>\n",
       "    <tr>\n",
       "      <th>140</th>\n",
       "      <td>1960-09</td>\n",
       "      <td>508</td>\n",
       "    </tr>\n",
       "    <tr>\n",
       "      <th>141</th>\n",
       "      <td>1960-10</td>\n",
       "      <td>461</td>\n",
       "    </tr>\n",
       "    <tr>\n",
       "      <th>142</th>\n",
       "      <td>1960-11</td>\n",
       "      <td>390</td>\n",
       "    </tr>\n",
       "    <tr>\n",
       "      <th>143</th>\n",
       "      <td>1960-12</td>\n",
       "      <td>432</td>\n",
       "    </tr>\n",
       "  </tbody>\n",
       "</table>\n",
       "</div>"
      ],
      "text/plain": [
       "       Month  #Passengers\n",
       "139  1960-08          606\n",
       "140  1960-09          508\n",
       "141  1960-10          461\n",
       "142  1960-11          390\n",
       "143  1960-12          432"
      ]
     },
     "execution_count": 10,
     "metadata": {},
     "output_type": "execute_result"
    }
   ],
   "source": [
    "df.tail()"
   ]
  },
  {
   "cell_type": "code",
   "execution_count": 12,
   "metadata": {},
   "outputs": [
    {
     "data": {
      "text/plain": [
       "[<matplotlib.lines.Line2D at 0x1ab4be678d0>]"
      ]
     },
     "execution_count": 12,
     "metadata": {},
     "output_type": "execute_result"
    },
    {
     "data": {
      "image/png": "[encoded data removed]",
      "text/plain": [
       "<Figure size 432x288 with 1 Axes>"
      ]
     },
     "metadata": {
      "needs_background": "light"
     },
     "output_type": "display_data"
    }
   ],
   "source": [
    "plt.plot(df.iloc[:,1])"
   ]
  },
  {
   "cell_type": "code",
   "execution_count": 13,
   "metadata": {},
   "outputs": [],
   "source": [
    "from sklearn.preprocessing import MinMaxScaler"
   ]
  },
  {
   "cell_type": "code",
   "execution_count": 14,
   "metadata": {},
   "outputs": [
    {
     "data": {
      "text/plain": [
       "0      112\n",
       "1      118\n",
       "2      132\n",
       "3      129\n",
       "4      121\n",
       "5      135\n",
       "6      148\n",
       "7      148\n",
       "8      136\n",
       "9      119\n",
       "10     104\n",
       "11     118\n",
       "12     115\n",
       "13     126\n",
       "14     141\n",
       "15     135\n",
       "16     125\n",
       "17     149\n",
       "18     170\n",
       "19     170\n",
       "20     158\n",
       "21     133\n",
       "22     114\n",
       "23     140\n",
       "24     145\n",
       "25     150\n",
       "26     178\n",
       "27     163\n",
       "28     172\n",
       "29     178\n",
       "      ... \n",
       "114    491\n",
       "115    505\n",
       "116    404\n",
       "117    359\n",
       "118    310\n",
       "119    337\n",
       "120    360\n",
       "121    342\n",
       "122    406\n",
       "123    396\n",
       "124    420\n",
       "125    472\n",
       "126    548\n",
       "127    559\n",
       "128    463\n",
       "129    407\n",
       "130    362\n",
       "131    405\n",
       "132    417\n",
       "133    391\n",
       "134    419\n",
       "135    461\n",
       "136    472\n",
       "137    535\n",
       "138    622\n",
       "139    606\n",
       "140    508\n",
       "141    461\n",
       "142    390\n",
       "143    432\n",
       "Name: #Passengers, Length: 144, dtype: int64"
      ]
     },
     "execution_count": 14,
     "metadata": {},
     "output_type": "execute_result"
    }
   ],
   "source": [
    "df.iloc[:,1]"
   ]
  },
  {
   "cell_type": "code",
   "execution_count": 16,
   "metadata": {},
   "outputs": [
    {
     "data": {
      "text/plain": [
       "(144, 2)"
      ]
     },
     "execution_count": 16,
     "metadata": {},
     "output_type": "execute_result"
    }
   ],
   "source": [
    "df.shape"
   ]
  },
  {
   "cell_type": "code",
   "execution_count": 20,
   "metadata": {},
   "outputs": [
    {
     "name": "stderr",
     "output_type": "stream",
     "text": [
      "c:\\users\\lenovo\\appdata\\local\\programs\\python\\python37\\lib\\site-packages\\sklearn\\preprocessing\\data.py:334: DataConversionWarning: Data with input dtype int64 were all converted to float64 by MinMaxScaler.\n",
      "  return self.partial_fit(X, y)\n"
     ]
    }
   ],
   "source": [
    "scaler = MinMaxScaler(feature_range=(0,1))\n",
    "df = scaler.fit_transform(df.iloc[:,1:])"
   ]
  },
  {
   "cell_type": "code",
   "execution_count": 22,
   "metadata": {},
   "outputs": [
    {
     "data": {
      "text/plain": [
       "(144, 1)"
      ]
     },
     "execution_count": 22,
     "metadata": {},
     "output_type": "execute_result"
    }
   ],
   "source": [
    "df.shape"
   ]
  },
  {
   "cell_type": "code",
   "execution_count": 23,
   "metadata": {},
   "outputs": [
    {
     "data": {
      "text/plain": [
       "array([[0.01544402],\n",
       "       [0.02702703],\n",
       "       [0.05405405],\n",
       "       [0.04826255],\n",
       "       [0.03281853],\n",
       "       [0.05984556],\n",
       "       [0.08494208],\n",
       "       [0.08494208],\n",
       "       [0.06177606],\n",
       "       [0.02895753],\n",
       "       [0.        ],\n",
       "       [0.02702703],\n",
       "       [0.02123552],\n",
       "       [0.04247104],\n",
       "       [0.07142857],\n",
       "       [0.05984556],\n",
       "       [0.04054054],\n",
       "       [0.08687259],\n",
       "       [0.12741313],\n",
       "       [0.12741313],\n",
       "       [0.1042471 ],\n",
       "       [0.05598456],\n",
       "       [0.01930502],\n",
       "       [0.06949807],\n",
       "       [0.07915058],\n",
       "       [0.08880309],\n",
       "       [0.14285714],\n",
       "       [0.11389961],\n",
       "       [0.13127413],\n",
       "       [0.14285714],\n",
       "       [0.18339768],\n",
       "       [0.18339768],\n",
       "       [0.15444015],\n",
       "       [0.11196911],\n",
       "       [0.08108108],\n",
       "       [0.11969112],\n",
       "       [0.12934363],\n",
       "       [0.14671815],\n",
       "       [0.17181467],\n",
       "       [0.14864865],\n",
       "       [0.15250965],\n",
       "       [0.22007722],\n",
       "       [0.24324324],\n",
       "       [0.26640927],\n",
       "       [0.2027027 ],\n",
       "       [0.16795367],\n",
       "       [0.13127413],\n",
       "       [0.17374517],\n",
       "       [0.17760618],\n",
       "       [0.17760618],\n",
       "       [0.25482625],\n",
       "       [0.25289575],\n",
       "       [0.24131274],\n",
       "       [0.26833977],\n",
       "       [0.30888031],\n",
       "       [0.32432432],\n",
       "       [0.25675676],\n",
       "       [0.20656371],\n",
       "       [0.14671815],\n",
       "       [0.18725869],\n",
       "       [0.19305019],\n",
       "       [0.16216216],\n",
       "       [0.25289575],\n",
       "       [0.23745174],\n",
       "       [0.25096525],\n",
       "       [0.30888031],\n",
       "       [0.38223938],\n",
       "       [0.36486486],\n",
       "       [0.2992278 ],\n",
       "       [0.24131274],\n",
       "       [0.19111969],\n",
       "       [0.24131274],\n",
       "       [0.26640927],\n",
       "       [0.24903475],\n",
       "       [0.31467181],\n",
       "       [0.31853282],\n",
       "       [0.32046332],\n",
       "       [0.40733591],\n",
       "       [0.5019305 ],\n",
       "       [0.46911197],\n",
       "       [0.4015444 ],\n",
       "       [0.32818533],\n",
       "       [0.25675676],\n",
       "       [0.33590734],\n",
       "       [0.34749035],\n",
       "       [0.33397683],\n",
       "       [0.41119691],\n",
       "       [0.4034749 ],\n",
       "       [0.41312741],\n",
       "       [0.52123552],\n",
       "       [0.5965251 ],\n",
       "       [0.58108108],\n",
       "       [0.48455598],\n",
       "       [0.38996139],\n",
       "       [0.32239382],\n",
       "       [0.38996139],\n",
       "       [0.40733591],\n",
       "       [0.38030888],\n",
       "       [0.48648649],\n",
       "       [0.47104247],\n",
       "       [0.48455598],\n",
       "       [0.61389961],\n",
       "       [0.6969112 ],\n",
       "       [0.7007722 ],\n",
       "       [0.57915058],\n",
       "       [0.46911197],\n",
       "       [0.38803089],\n",
       "       [0.44787645],\n",
       "       [0.45559846],\n",
       "       [0.41312741],\n",
       "       [0.4980695 ],\n",
       "       [0.47104247],\n",
       "       [0.5       ],\n",
       "       [0.63899614],\n",
       "       [0.74710425],\n",
       "       [0.77413127],\n",
       "       [0.57915058],\n",
       "       [0.49227799],\n",
       "       [0.3976834 ],\n",
       "       [0.44980695],\n",
       "       [0.49420849],\n",
       "       [0.45945946],\n",
       "       [0.58301158],\n",
       "       [0.56370656],\n",
       "       [0.61003861],\n",
       "       [0.71042471],\n",
       "       [0.85714286],\n",
       "       [0.87837838],\n",
       "       [0.69305019],\n",
       "       [0.58494208],\n",
       "       [0.4980695 ],\n",
       "       [0.58108108],\n",
       "       [0.6042471 ],\n",
       "       [0.55405405],\n",
       "       [0.60810811],\n",
       "       [0.68918919],\n",
       "       [0.71042471],\n",
       "       [0.83204633],\n",
       "       [1.        ],\n",
       "       [0.96911197],\n",
       "       [0.77992278],\n",
       "       [0.68918919],\n",
       "       [0.55212355],\n",
       "       [0.63320463]])"
      ]
     },
     "execution_count": 23,
     "metadata": {},
     "output_type": "execute_result"
    }
   ],
   "source": [
    "df"
   ]
  },
  {
   "cell_type": "markdown",
   "metadata": {},
   "source": [
    "## Train Test Split"
   ]
  },
  {
   "cell_type": "code",
   "execution_count": 24,
   "metadata": {},
   "outputs": [
    {
     "data": {
      "text/plain": [
       "144"
      ]
     },
     "execution_count": 24,
     "metadata": {},
     "output_type": "execute_result"
    }
   ],
   "source": [
    "len(df)"
   ]
  },
  {
   "cell_type": "code",
   "execution_count": 29,
   "metadata": {},
   "outputs": [
    {
     "data": {
      "text/plain": [
       "100"
      ]
     },
     "execution_count": 29,
     "metadata": {},
     "output_type": "execute_result"
    }
   ],
   "source": [
    "int(len(df)*0.7)"
   ]
  },
  {
   "cell_type": "code",
   "execution_count": 30,
   "metadata": {},
   "outputs": [],
   "source": [
    "train=df[0:100]"
   ]
  },
  {
   "cell_type": "code",
   "execution_count": 32,
   "metadata": {},
   "outputs": [
    {
     "name": "stdout",
     "output_type": "stream",
     "text": [
      "(100, 1)\n"
     ]
    },
    {
     "data": {
      "text/plain": [
       "array([[0.01544402],\n",
       "       [0.02702703],\n",
       "       [0.05405405],\n",
       "       [0.04826255],\n",
       "       [0.03281853],\n",
       "       [0.05984556],\n",
       "       [0.08494208],\n",
       "       [0.08494208],\n",
       "       [0.06177606],\n",
       "       [0.02895753],\n",
       "       [0.        ],\n",
       "       [0.02702703],\n",
       "       [0.02123552],\n",
       "       [0.04247104],\n",
       "       [0.07142857],\n",
       "       [0.05984556],\n",
       "       [0.04054054],\n",
       "       [0.08687259],\n",
       "       [0.12741313],\n",
       "       [0.12741313],\n",
       "       [0.1042471 ],\n",
       "       [0.05598456],\n",
       "       [0.01930502],\n",
       "       [0.06949807],\n",
       "       [0.07915058],\n",
       "       [0.08880309],\n",
       "       [0.14285714],\n",
       "       [0.11389961],\n",
       "       [0.13127413],\n",
       "       [0.14285714],\n",
       "       [0.18339768],\n",
       "       [0.18339768],\n",
       "       [0.15444015],\n",
       "       [0.11196911],\n",
       "       [0.08108108],\n",
       "       [0.11969112],\n",
       "       [0.12934363],\n",
       "       [0.14671815],\n",
       "       [0.17181467],\n",
       "       [0.14864865],\n",
       "       [0.15250965],\n",
       "       [0.22007722],\n",
       "       [0.24324324],\n",
       "       [0.26640927],\n",
       "       [0.2027027 ],\n",
       "       [0.16795367],\n",
       "       [0.13127413],\n",
       "       [0.17374517],\n",
       "       [0.17760618],\n",
       "       [0.17760618],\n",
       "       [0.25482625],\n",
       "       [0.25289575],\n",
       "       [0.24131274],\n",
       "       [0.26833977],\n",
       "       [0.30888031],\n",
       "       [0.32432432],\n",
       "       [0.25675676],\n",
       "       [0.20656371],\n",
       "       [0.14671815],\n",
       "       [0.18725869],\n",
       "       [0.19305019],\n",
       "       [0.16216216],\n",
       "       [0.25289575],\n",
       "       [0.23745174],\n",
       "       [0.25096525],\n",
       "       [0.30888031],\n",
       "       [0.38223938],\n",
       "       [0.36486486],\n",
       "       [0.2992278 ],\n",
       "       [0.24131274],\n",
       "       [0.19111969],\n",
       "       [0.24131274],\n",
       "       [0.26640927],\n",
       "       [0.24903475],\n",
       "       [0.31467181],\n",
       "       [0.31853282],\n",
       "       [0.32046332],\n",
       "       [0.40733591],\n",
       "       [0.5019305 ],\n",
       "       [0.46911197],\n",
       "       [0.4015444 ],\n",
       "       [0.32818533],\n",
       "       [0.25675676],\n",
       "       [0.33590734],\n",
       "       [0.34749035],\n",
       "       [0.33397683],\n",
       "       [0.41119691],\n",
       "       [0.4034749 ],\n",
       "       [0.41312741],\n",
       "       [0.52123552],\n",
       "       [0.5965251 ],\n",
       "       [0.58108108],\n",
       "       [0.48455598],\n",
       "       [0.38996139],\n",
       "       [0.32239382],\n",
       "       [0.38996139],\n",
       "       [0.40733591],\n",
       "       [0.38030888],\n",
       "       [0.48648649],\n",
       "       [0.47104247]])"
      ]
     },
     "execution_count": 32,
     "metadata": {},
     "output_type": "execute_result"
    }
   ],
   "source": [
    "print(train.shape)\n",
    "train"
   ]
  },
  {
   "cell_type": "code",
   "execution_count": 33,
   "metadata": {},
   "outputs": [],
   "source": [
    "test=df[100:]"
   ]
  },
  {
   "cell_type": "code",
   "execution_count": 34,
   "metadata": {},
   "outputs": [
    {
     "name": "stdout",
     "output_type": "stream",
     "text": [
      "(44, 1)\n"
     ]
    },
    {
     "data": {
      "text/plain": [
       "array([[0.48455598],\n",
       "       [0.61389961],\n",
       "       [0.6969112 ],\n",
       "       [0.7007722 ],\n",
       "       [0.57915058],\n",
       "       [0.46911197],\n",
       "       [0.38803089],\n",
       "       [0.44787645],\n",
       "       [0.45559846],\n",
       "       [0.41312741],\n",
       "       [0.4980695 ],\n",
       "       [0.47104247],\n",
       "       [0.5       ],\n",
       "       [0.63899614],\n",
       "       [0.74710425],\n",
       "       [0.77413127],\n",
       "       [0.57915058],\n",
       "       [0.49227799],\n",
       "       [0.3976834 ],\n",
       "       [0.44980695],\n",
       "       [0.49420849],\n",
       "       [0.45945946],\n",
       "       [0.58301158],\n",
       "       [0.56370656],\n",
       "       [0.61003861],\n",
       "       [0.71042471],\n",
       "       [0.85714286],\n",
       "       [0.87837838],\n",
       "       [0.69305019],\n",
       "       [0.58494208],\n",
       "       [0.4980695 ],\n",
       "       [0.58108108],\n",
       "       [0.6042471 ],\n",
       "       [0.55405405],\n",
       "       [0.60810811],\n",
       "       [0.68918919],\n",
       "       [0.71042471],\n",
       "       [0.83204633],\n",
       "       [1.        ],\n",
       "       [0.96911197],\n",
       "       [0.77992278],\n",
       "       [0.68918919],\n",
       "       [0.55212355],\n",
       "       [0.63320463]])"
      ]
     },
     "execution_count": 34,
     "metadata": {},
     "output_type": "execute_result"
    }
   ],
   "source": [
    "print(test.shape)\n",
    "test"
   ]
  },
  {
   "cell_type": "code",
   "execution_count": 35,
   "metadata": {},
   "outputs": [],
   "source": [
    "def dataset(dataset, time_step=1):\n",
    "    X=[]\n",
    "    y=[]\n",
    "    for i in range(len(dataset)- time_step -1):\n",
    "        a = dataset[i:(i+time_stamp),0]  # i = 0,1,2,3\n",
    "        X.append(a)\n",
    "        y.append(dataset[i+time_stamp,0])\n",
    "        \n",
    "    return np.array(X),np.array(y)\n"
   ]
  },
  {
   "cell_type": "code",
   "execution_count": 36,
   "metadata": {},
   "outputs": [],
   "source": [
    "#Reshaping into X=t,t+1,t+2,t+3 and y=t+4\n",
    "\n",
    "time_stamp=4\n",
    "\n",
    "X_train, y_train = dataset(train, time_stamp)\n",
    "X_test, y_test = dataset(test, time_stamp)"
   ]
  },
  {
   "cell_type": "code",
   "execution_count": 39,
   "metadata": {},
   "outputs": [
    {
     "name": "stdout",
     "output_type": "stream",
     "text": [
      "X_train (95, 4)\n",
      "y_train (95,)\n",
      "X_test (39, 4)\n",
      "y_test (39,)\n"
     ]
    }
   ],
   "source": [
    "print(\"X_train\",X_train.shape)\n",
    "print(\"y_train\",y_train.shape)\n",
    "print(\"X_test\",X_test.shape)\n",
    "print(\"y_test\",y_test.shape)"
   ]
  },
  {
   "cell_type": "code",
   "execution_count": 44,
   "metadata": {},
   "outputs": [],
   "source": [
    "# reshaping into [series, timestamp, features]  ===> required for LSTM\n",
    "\n",
    "X_train = X_train.reshape(X_train.shape[0],4,1)\n",
    "X_test = X_test.reshape(X_test.shape[0],4,1)"
   ]
  },
  {
   "cell_type": "code",
   "execution_count": 45,
   "metadata": {},
   "outputs": [
    {
     "name": "stdout",
     "output_type": "stream",
     "text": [
      "X_train (95, 4, 1)\n",
      "X_test (39, 4, 1)\n"
     ]
    }
   ],
   "source": [
    "print(\"X_train\",X_train.shape)\n",
    "print(\"X_test\",X_test.shape)"
   ]
  },
  {
   "cell_type": "code",
   "execution_count": 65,
   "metadata": {},
   "outputs": [],
   "source": [
    "import keras\n",
    "from keras.models import Sequential\n",
    "from keras.layers import LSTM, Dense, Flatten"
   ]
  },
  {
   "cell_type": "code",
   "execution_count": 67,
   "metadata": {},
   "outputs": [],
   "source": [
    "model=Sequential()\n",
    "\n",
    "model.add(LSTM(50,return_sequences=True,input_shape=(4,1)))\n",
    "model.add(LSTM(50, return_sequences=True))\n",
    "\n",
    "model.add(Flatten())\n",
    "\n",
    "model.add(Dense(1))\n"
   ]
  },
  {
   "cell_type": "code",
   "execution_count": 68,
   "metadata": {},
   "outputs": [],
   "source": [
    "model.compile(loss='mean_squared_error',optimizer='adam')"
   ]
  },
  {
   "cell_type": "code",
   "execution_count": 69,
   "metadata": {},
   "outputs": [
    {
     "name": "stdout",
     "output_type": "stream",
     "text": [
      "Train on 95 samples, validate on 39 samples\n",
      "Epoch 1/100\n",
      "95/95 [==============================] - 1s 12ms/step - loss: 0.0665 - val_loss: 0.3501\n",
      "Epoch 2/100\n",
      "95/95 [==============================] - 0s 213us/step - loss: 0.0547 - val_loss: 0.3005\n",
      "Epoch 3/100\n",
      "95/95 [==============================] - 0s 241us/step - loss: 0.0431 - val_loss: 0.2485\n",
      "Epoch 4/100\n",
      "95/95 [==============================] - 0s 252us/step - loss: 0.0318 - val_loss: 0.1932\n",
      "Epoch 5/100\n",
      "95/95 [==============================] - 0s 231us/step - loss: 0.0216 - val_loss: 0.1365\n",
      "Epoch 6/100\n",
      "95/95 [==============================] - 0s 241us/step - loss: 0.0141 - val_loss: 0.0856\n",
      "Epoch 7/100\n",
      "95/95 [==============================] - 0s 273us/step - loss: 0.0112 - val_loss: 0.0525\n",
      "Epoch 8/100\n",
      "95/95 [==============================] - 0s 252us/step - loss: 0.0131 - val_loss: 0.0416\n",
      "Epoch 9/100\n",
      "95/95 [==============================] - 0s 273us/step - loss: 0.0137 - val_loss: 0.0446\n",
      "Epoch 10/100\n",
      "95/95 [==============================] - 0s 252us/step - loss: 0.0117 - val_loss: 0.0554\n",
      "Epoch 11/100\n",
      "95/95 [==============================] - 0s 262us/step - loss: 0.0097 - val_loss: 0.0665\n",
      "Epoch 12/100\n",
      "95/95 [==============================] - 0s 252us/step - loss: 0.0098 - val_loss: 0.0759\n",
      "Epoch 13/100\n",
      "95/95 [==============================] - 0s 269us/step - loss: 0.0096 - val_loss: 0.0740\n",
      "Epoch 14/100\n",
      "95/95 [==============================] - 0s 251us/step - loss: 0.0094 - val_loss: 0.0676\n",
      "Epoch 15/100\n",
      "95/95 [==============================] - 0s 273us/step - loss: 0.0088 - val_loss: 0.0563\n",
      "Epoch 16/100\n",
      "95/95 [==============================] - 0s 252us/step - loss: 0.0080 - val_loss: 0.0457\n",
      "Epoch 17/100\n",
      "95/95 [==============================] - 0s 262us/step - loss: 0.0076 - val_loss: 0.0381\n",
      "Epoch 18/100\n",
      "95/95 [==============================] - 0s 241us/step - loss: 0.0074 - val_loss: 0.0355\n",
      "Epoch 19/100\n",
      "95/95 [==============================] - 0s 273us/step - loss: 0.0071 - val_loss: 0.0340\n",
      "Epoch 20/100\n",
      "95/95 [==============================] - 0s 241us/step - loss: 0.0067 - val_loss: 0.0343\n",
      "Epoch 21/100\n",
      "95/95 [==============================] - 0s 273us/step - loss: 0.0065 - val_loss: 0.0359\n",
      "Epoch 22/100\n",
      "95/95 [==============================] - 0s 231us/step - loss: 0.0065 - val_loss: 0.0358\n",
      "Epoch 23/100\n",
      "95/95 [==============================] - 0s 262us/step - loss: 0.0063 - val_loss: 0.0340\n",
      "Epoch 24/100\n",
      "95/95 [==============================] - 0s 241us/step - loss: 0.0062 - val_loss: 0.0326\n",
      "Epoch 25/100\n",
      "95/95 [==============================] - 0s 263us/step - loss: 0.0061 - val_loss: 0.0329\n",
      "Epoch 26/100\n",
      "95/95 [==============================] - 0s 252us/step - loss: 0.0061 - val_loss: 0.0333\n",
      "Epoch 27/100\n",
      "95/95 [==============================] - 0s 273us/step - loss: 0.0061 - val_loss: 0.0333\n",
      "Epoch 28/100\n",
      "95/95 [==============================] - 0s 241us/step - loss: 0.0061 - val_loss: 0.0331\n",
      "Epoch 29/100\n",
      "95/95 [==============================] - 0s 273us/step - loss: 0.0061 - val_loss: 0.0330\n",
      "Epoch 30/100\n",
      "95/95 [==============================] - 0s 241us/step - loss: 0.0060 - val_loss: 0.0327\n",
      "Epoch 31/100\n",
      "95/95 [==============================] - 0s 262us/step - loss: 0.0061 - val_loss: 0.0327\n",
      "Epoch 32/100\n",
      "95/95 [==============================] - 0s 231us/step - loss: 0.0060 - val_loss: 0.0321\n",
      "Epoch 33/100\n",
      "95/95 [==============================] - 0s 273us/step - loss: 0.0059 - val_loss: 0.0319\n",
      "Epoch 34/100\n",
      "95/95 [==============================] - 0s 241us/step - loss: 0.0059 - val_loss: 0.0318\n",
      "Epoch 35/100\n",
      "95/95 [==============================] - 0s 273us/step - loss: 0.0060 - val_loss: 0.0317\n",
      "Epoch 36/100\n",
      "95/95 [==============================] - 0s 241us/step - loss: 0.0060 - val_loss: 0.0310\n",
      "Epoch 37/100\n",
      "95/95 [==============================] - 0s 283us/step - loss: 0.0059 - val_loss: 0.0309\n",
      "Epoch 38/100\n",
      "95/95 [==============================] - 0s 252us/step - loss: 0.0058 - val_loss: 0.0308\n",
      "Epoch 39/100\n",
      "95/95 [==============================] - 0s 262us/step - loss: 0.0058 - val_loss: 0.0306\n",
      "Epoch 40/100\n",
      "95/95 [==============================] - 0s 252us/step - loss: 0.0058 - val_loss: 0.0305\n",
      "Epoch 41/100\n",
      "95/95 [==============================] - 0s 231us/step - loss: 0.0058 - val_loss: 0.0306\n",
      "Epoch 42/100\n",
      "95/95 [==============================] - 0s 262us/step - loss: 0.0058 - val_loss: 0.0304\n",
      "Epoch 43/100\n",
      "95/95 [==============================] - 0s 241us/step - loss: 0.0057 - val_loss: 0.0302\n",
      "Epoch 44/100\n",
      "95/95 [==============================] - 0s 293us/step - loss: 0.0057 - val_loss: 0.0299\n",
      "Epoch 45/100\n",
      "95/95 [==============================] - 0s 231us/step - loss: 0.0057 - val_loss: 0.0299\n",
      "Epoch 46/100\n",
      "95/95 [==============================] - 0s 273us/step - loss: 0.0057 - val_loss: 0.0298\n",
      "Epoch 47/100\n",
      "95/95 [==============================] - 0s 294us/step - loss: 0.0057 - val_loss: 0.0298\n",
      "Epoch 48/100\n",
      "95/95 [==============================] - 0s 262us/step - loss: 0.0056 - val_loss: 0.0296\n",
      "Epoch 49/100\n",
      "95/95 [==============================] - 0s 273us/step - loss: 0.0057 - val_loss: 0.0295\n",
      "Epoch 50/100\n",
      "95/95 [==============================] - 0s 231us/step - loss: 0.0059 - val_loss: 0.0287\n",
      "Epoch 51/100\n",
      "95/95 [==============================] - 0s 284us/step - loss: 0.0056 - val_loss: 0.0287\n",
      "Epoch 52/100\n",
      "95/95 [==============================] - 0s 231us/step - loss: 0.0055 - val_loss: 0.0293\n",
      "Epoch 53/100\n",
      "95/95 [==============================] - 0s 252us/step - loss: 0.0056 - val_loss: 0.0297\n",
      "Epoch 54/100\n",
      "95/95 [==============================] - 0s 231us/step - loss: 0.0056 - val_loss: 0.0291\n",
      "Epoch 55/100\n",
      "95/95 [==============================] - 0s 272us/step - loss: 0.0055 - val_loss: 0.0281\n",
      "Epoch 56/100\n",
      "95/95 [==============================] - 0s 231us/step - loss: 0.0055 - val_loss: 0.0282\n",
      "Epoch 57/100\n",
      "95/95 [==============================] - 0s 220us/step - loss: 0.0054 - val_loss: 0.0280\n",
      "Epoch 58/100\n",
      "95/95 [==============================] - 0s 251us/step - loss: 0.0054 - val_loss: 0.0279\n",
      "Epoch 59/100\n",
      "95/95 [==============================] - 0s 220us/step - loss: 0.0054 - val_loss: 0.0278\n",
      "Epoch 60/100\n",
      "95/95 [==============================] - 0s 252us/step - loss: 0.0054 - val_loss: 0.0282\n",
      "Epoch 61/100\n",
      "95/95 [==============================] - 0s 231us/step - loss: 0.0054 - val_loss: 0.0279\n",
      "Epoch 62/100\n",
      "95/95 [==============================] - ETA: 0s - loss: 0.005 - 0s 220us/step - loss: 0.0053 - val_loss: 0.0275\n",
      "Epoch 63/100\n",
      "95/95 [==============================] - 0s 252us/step - loss: 0.0054 - val_loss: 0.0268\n",
      "Epoch 64/100\n",
      "95/95 [==============================] - 0s 238us/step - loss: 0.0053 - val_loss: 0.0273\n",
      "Epoch 65/100\n",
      "95/95 [==============================] - 0s 241us/step - loss: 0.0053 - val_loss: 0.0273\n",
      "Epoch 66/100\n",
      "95/95 [==============================] - 0s 273us/step - loss: 0.0053 - val_loss: 0.0268\n",
      "Epoch 67/100\n",
      "95/95 [==============================] - 0s 241us/step - loss: 0.0053 - val_loss: 0.0272\n",
      "Epoch 68/100\n",
      "95/95 [==============================] - 0s 240us/step - loss: 0.0052 - val_loss: 0.0266\n",
      "Epoch 69/100\n",
      "95/95 [==============================] - 0s 262us/step - loss: 0.0052 - val_loss: 0.0262\n",
      "Epoch 70/100\n",
      "95/95 [==============================] - 0s 246us/step - loss: 0.0051 - val_loss: 0.0257\n",
      "Epoch 71/100\n",
      "95/95 [==============================] - 0s 262us/step - loss: 0.0051 - val_loss: 0.0256\n",
      "Epoch 72/100\n",
      "95/95 [==============================] - 0s 241us/step - loss: 0.0051 - val_loss: 0.0255\n",
      "Epoch 73/100\n",
      "95/95 [==============================] - 0s 231us/step - loss: 0.0051 - val_loss: 0.0267\n",
      "Epoch 74/100\n",
      "95/95 [==============================] - 0s 241us/step - loss: 0.0051 - val_loss: 0.0269\n",
      "Epoch 75/100\n",
      "95/95 [==============================] - 0s 263us/step - loss: 0.0050 - val_loss: 0.0255\n",
      "Epoch 76/100\n",
      "95/95 [==============================] - 0s 231us/step - loss: 0.0049 - val_loss: 0.0244\n",
      "Epoch 77/100\n",
      "95/95 [==============================] - 0s 263us/step - loss: 0.0050 - val_loss: 0.0245\n",
      "Epoch 78/100\n",
      "95/95 [==============================] - 0s 231us/step - loss: 0.0050 - val_loss: 0.0254\n",
      "Epoch 79/100\n",
      "95/95 [==============================] - 0s 231us/step - loss: 0.0049 - val_loss: 0.0250\n",
      "Epoch 80/100\n",
      "95/95 [==============================] - 0s 241us/step - loss: 0.0048 - val_loss: 0.0247\n"
     ]
    },
    {
     "name": "stdout",
     "output_type": "stream",
     "text": [
      "Epoch 81/100\n",
      "95/95 [==============================] - 0s 272us/step - loss: 0.0048 - val_loss: 0.0242\n",
      "Epoch 82/100\n",
      "95/95 [==============================] - ETA: 0s - loss: 0.003 - 0s 230us/step - loss: 0.0048 - val_loss: 0.0240\n",
      "Epoch 83/100\n",
      "95/95 [==============================] - 0s 196us/step - loss: 0.0047 - val_loss: 0.0248\n",
      "Epoch 84/100\n",
      "95/95 [==============================] - 0s 116us/step - loss: 0.0047 - val_loss: 0.0247\n",
      "Epoch 85/100\n",
      "95/95 [==============================] - 0s 172us/step - loss: 0.0048 - val_loss: 0.0231\n",
      "Epoch 86/100\n",
      "95/95 [==============================] - 0s 185us/step - loss: 0.0046 - val_loss: 0.0234\n",
      "Epoch 87/100\n",
      "95/95 [==============================] - 0s 255us/step - loss: 0.0047 - val_loss: 0.0255\n",
      "Epoch 88/100\n",
      "95/95 [==============================] - 0s 248us/step - loss: 0.0046 - val_loss: 0.0239\n",
      "Epoch 89/100\n",
      "95/95 [==============================] - 0s 199us/step - loss: 0.0046 - val_loss: 0.0222\n",
      "Epoch 90/100\n",
      "95/95 [==============================] - 0s 202us/step - loss: 0.0045 - val_loss: 0.0228\n",
      "Epoch 91/100\n",
      "95/95 [==============================] - 0s 231us/step - loss: 0.0044 - val_loss: 0.0236\n",
      "Epoch 92/100\n",
      "95/95 [==============================] - 0s 210us/step - loss: 0.0044 - val_loss: 0.0247\n",
      "Epoch 93/100\n",
      "95/95 [==============================] - 0s 222us/step - loss: 0.0044 - val_loss: 0.0241\n",
      "Epoch 94/100\n",
      "95/95 [==============================] - 0s 241us/step - loss: 0.0043 - val_loss: 0.0228\n",
      "Epoch 95/100\n",
      "95/95 [==============================] - 0s 210us/step - loss: 0.0043 - val_loss: 0.0223\n",
      "Epoch 96/100\n",
      "95/95 [==============================] - 0s 231us/step - loss: 0.0043 - val_loss: 0.0217\n",
      "Epoch 97/100\n",
      "95/95 [==============================] - 0s 220us/step - loss: 0.0042 - val_loss: 0.0230\n",
      "Epoch 98/100\n",
      "95/95 [==============================] - 0s 220us/step - loss: 0.0042 - val_loss: 0.0248\n",
      "Epoch 99/100\n",
      "95/95 [==============================] - 0s 211us/step - loss: 0.0041 - val_loss: 0.0236\n",
      "Epoch 100/100\n",
      "95/95 [==============================] - 0s 231us/step - loss: 0.0042 - val_loss: 0.0206\n"
     ]
    },
    {
     "data": {
      "text/plain": [
       "<keras.callbacks.callbacks.History at 0x1ab5ccabfd0>"
      ]
     },
     "execution_count": 69,
     "metadata": {},
     "output_type": "execute_result"
    }
   ],
   "source": [
    "model.fit(X_train,y_train,validation_data=(X_test,y_test),epochs=100,batch_size=32,verbose=1)"
   ]
  },
  {
   "cell_type": "code",
   "execution_count": 70,
   "metadata": {},
   "outputs": [],
   "source": [
    "\n",
    "train_predict = model.predict(X_train)\n",
    "test_predict = model.predict(X_test)"
   ]
  },
  {
   "cell_type": "code",
   "execution_count": 71,
   "metadata": {},
   "outputs": [],
   "source": [
    "train_predict = scaler.inverse_transform(train_predict)\n",
    "test_predict = scaler.inverse_transform(test_predict)"
   ]
  },
  {
   "cell_type": "code",
   "execution_count": 72,
   "metadata": {},
   "outputs": [
    {
     "data": {
      "text/plain": [
       "array([[406.659  ],\n",
       "       [399.8642 ],\n",
       "       [373.33136],\n",
       "       [342.15753],\n",
       "       [327.06937],\n",
       "       [324.88745],\n",
       "       [324.37146],\n",
       "       [330.99588],\n",
       "       [335.74503],\n",
       "       [342.35812],\n",
       "       [362.10358],\n",
       "       [394.96014],\n",
       "       [423.19885],\n",
       "       [411.23453],\n",
       "       [380.35126],\n",
       "       [346.50293],\n",
       "       [330.73062],\n",
       "       [331.33118],\n",
       "       [335.588  ],\n",
       "       [351.00534],\n",
       "       [363.437  ],\n",
       "       [376.44666],\n",
       "       [394.1786 ],\n",
       "       [426.61395],\n",
       "       [452.37747],\n",
       "       [440.1586 ],\n",
       "       [407.28174],\n",
       "       [375.74673],\n",
       "       [368.06372],\n",
       "       [373.04245],\n",
       "       [375.80994],\n",
       "       [378.62476],\n",
       "       [390.97116],\n",
       "       [407.04315],\n",
       "       [429.3252 ],\n",
       "       [462.76645],\n",
       "       [482.1114 ],\n",
       "       [461.57767],\n",
       "       [428.0268 ]], dtype=float32)"
      ]
     },
     "execution_count": 72,
     "metadata": {},
     "output_type": "execute_result"
    }
   ],
   "source": [
    "test_predict"
   ]
  },
  {
   "cell_type": "code",
   "execution_count": 73,
   "metadata": {},
   "outputs": [
    {
     "name": "stdout",
     "output_type": "stream",
     "text": [
      "RMSE Training 232.99562964881454\n",
      "RMSE Test 385.53941354440894\n"
     ]
    }
   ],
   "source": [
    "# Calculate RMSE \n",
    "import math\n",
    "from sklearn.metrics import mean_squared_error\n",
    "\n",
    "print(\"RMSE Training\",math.sqrt(mean_squared_error(y_train, train_predict)))\n",
    "print(\"RMSE Test\",math.sqrt(mean_squared_error(y_test, test_predict)))\n"
   ]
  },
  {
   "cell_type": "code",
   "execution_count": 77,
   "metadata": {},
   "outputs": [
    {
     "data": {
      "text/plain": [
       "[<matplotlib.lines.Line2D at 0x1ab60696208>]"
      ]
     },
     "execution_count": 77,
     "metadata": {},
     "output_type": "execute_result"
    },
    {
     "data": {
      "image/png": "[encoded data removed]",
      "text/plain": [
       "<Figure size 432x288 with 1 Axes>"
      ]
     },
     "metadata": {
      "needs_background": "light"
     },
     "output_type": "display_data"
    }
   ],
   "source": [
    "plt.plot(test_predict)"
   ]
  },
  {
   "cell_type": "code",
   "execution_count": 76,
   "metadata": {},
   "outputs": [
    {
     "data": {
      "text/plain": [
       "[<matplotlib.lines.Line2D at 0x1ab6032da58>]"
      ]
     },
     "execution_count": 76,
     "metadata": {},
     "output_type": "execute_result"
    },
    {
     "data": {
      "image/png": "[encoded data removed]",
      "text/plain": [
       "<Figure size 432x288 with 1 Axes>"
      ]
     },
     "metadata": {
      "needs_background": "light"
     },
     "output_type": "display_data"
    }
   ],
   "source": [
    "plt.plot(y_test)"
   ]
  },
  {
   "cell_type": "code",
   "execution_count": null,
   "metadata": {},
   "outputs": [],
   "source": []
  }
 ],
 "metadata": {
  "kernelspec": {
   "display_name": "Python 3",
   "language": "python",
   "name": "python3"
  },
  "language_info": {
   "codemirror_mode": {
    "name": "ipython",
    "version": 3
   },
   "file_extension": ".py",
   "mimetype": "text/x-python",
   "name": "python",
   "nbconvert_exporter": "python",
   "pygments_lexer": "ipython3",
   "version": "3.7.3"
  }
 },
 "nbformat": 4,
 "nbformat_minor": 2
}
